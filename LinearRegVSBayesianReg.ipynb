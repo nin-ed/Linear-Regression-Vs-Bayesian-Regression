{
  "nbformat": 4,
  "nbformat_minor": 0,
  "metadata": {
    "colab": {
      "name": "LinearRegVSBayesianReg.ipynb",
      "provenance": [],
      "toc_visible": true,
      "mount_file_id": "1PWsKH705j2bP1DGwKe9kM2hHGyBx3AhU",
      "authorship_tag": "ABX9TyM31oCRcIsfc/cevzEMzAQg",
      "include_colab_link": true
    },
    "kernelspec": {
      "name": "python3",
      "display_name": "Python 3"
    }
  },
  "cells": [
    {
      "cell_type": "markdown",
      "metadata": {
        "id": "view-in-github",
        "colab_type": "text"
      },
      "source": [
        "<a href=\"https://colab.research.google.com/github/nin-ed/Linear-Regression-Vs-Bayesian-Regression/blob/main/LinearRegVSBayesianReg.ipynb\" target=\"_parent\"><img src=\"https://colab.research.google.com/assets/colab-badge.svg\" alt=\"Open In Colab\"/></a>"
      ]
    },
    {
      "cell_type": "code",
      "metadata": {
        "id": "_heIa9fmuOQd"
      },
      "source": [
        "import numpy as np\n",
        "import pandas as pd\n",
        "import matplotlib.pyplot as plt\n",
        "import torch\n",
        "from torch import nn, optim\n",
        "from torch.distributions.multivariate_normal import MultivariateNormal\n",
        "from sklearn.linear_model import LinearRegression\n",
        "from numpy.linalg import inv"
      ],
      "execution_count": 1,
      "outputs": []
    },
    {
      "cell_type": "code",
      "metadata": {
        "id": "_HVtuQfFuh5q",
        "colab": {
          "base_uri": "https://localhost:8080/",
          "height": 283
        },
        "outputId": "a489a834-582a-45d0-843a-d09ac2e1a1d9"
      },
      "source": [
        "data = pd.read_csv(\"/content/drive/My Drive/salary_data.csv\").values\n",
        "x = np.array(data[:, 0]).reshape(-1, 1)\n",
        "y = np.array(data[:, 1]).reshape(-1, 1)\n",
        "\n",
        "plt.scatter(x, y)"
      ],
      "execution_count": 2,
      "outputs": [
        {
          "output_type": "execute_result",
          "data": {
            "text/plain": [
              "<matplotlib.collections.PathCollection at 0x7f28471f4c50>"
            ]
          },
          "metadata": {
            "tags": []
          },
          "execution_count": 2
        },
        {
          "output_type": "display_data",
          "data": {
            "image/png": "[encoded data removed]",
            "text/plain": [
              "<Figure size 432x288 with 1 Axes>"
            ]
          },
          "metadata": {
            "tags": [],
            "needs_background": "light"
          }
        }
      ]
    },
    {
      "cell_type": "markdown",
      "metadata": {
        "id": "NFOVmoom6N--"
      },
      "source": [
        "## Reference: Linear Regression by Scikit Learn"
      ]
    },
    {
      "cell_type": "code",
      "metadata": {
        "id": "8wjgA0Q16L_z",
        "colab": {
          "base_uri": "https://localhost:8080/",
          "height": 283
        },
        "outputId": "ea910e9b-f29f-4823-866f-30e9519e0722"
      },
      "source": [
        "lr = LinearRegression()\n",
        "lr.fit(x, y)\n",
        "pred = lr.predict(x)\n",
        "plt.scatter(x, y)\n",
        "plt.plot(x, pred, color=\"b\")"
      ],
      "execution_count": 3,
      "outputs": [
        {
          "output_type": "execute_result",
          "data": {
            "text/plain": [
              "[<matplotlib.lines.Line2D at 0x7f28479472b0>]"
            ]
          },
          "metadata": {
            "tags": []
          },
          "execution_count": 3
        },
        {
          "output_type": "display_data",
          "data": {
            "image/png": "[encoded data removed]",
            "text/plain": [
              "<Figure size 432x288 with 1 Axes>"
            ]
          },
          "metadata": {
            "tags": [],
            "needs_background": "light"
          }
        }
      ]
    },
    {
      "cell_type": "markdown",
      "metadata": {
        "id": "1LgJxFHh7Dw7"
      },
      "source": [
        "## Linear Regression using ANN"
      ]
    },
    {
      "cell_type": "code",
      "metadata": {
        "id": "J5LG0tE47Hjr"
      },
      "source": [
        "class Network(nn.Module):\n",
        "    def __init__(self, inc, outc):\n",
        "        super(Network, self).__init__()\n",
        "        self.inp = nn.Linear(inc, outc)\n",
        "\n",
        "    def forward(self, x):\n",
        "        x = self.inp(x)\n",
        "        return x\n",
        "\n",
        "model = Network(1, 1)\n",
        "criterion = nn.MSELoss()\n",
        "optimizer = optim.SGD(model.parameters(), lr=0.01)\n",
        "epoch = 2694"
      ],
      "execution_count": 4,
      "outputs": []
    },
    {
      "cell_type": "code",
      "metadata": {
        "id": "MOfWn2mu7N46"
      },
      "source": [
        "for e in range(epoch):\n",
        "    optimizer.zero_grad()\n",
        "    output = model.forward(torch.Tensor(x))\n",
        "    loss = criterion(output, torch.Tensor(y))\n",
        "    loss.backward()\n",
        "    optimizer.step()\n",
        "\n",
        "with torch.no_grad():\n",
        "    ap = model.forward(torch.Tensor(x))"
      ],
      "execution_count": 5,
      "outputs": []
    },
    {
      "cell_type": "code",
      "metadata": {
        "id": "kTCA_eOS7Tps",
        "colab": {
          "base_uri": "https://localhost:8080/",
          "height": 283
        },
        "outputId": "722ffaca-b14d-41a1-f5d2-cb13e1197db9"
      },
      "source": [
        "plt.scatter(x, y)\n",
        "plt.plot(x, pred, color=\"b\")\n",
        "plt.plot(x, ap, color=\"r\")"
      ],
      "execution_count": 6,
      "outputs": [
        {
          "output_type": "execute_result",
          "data": {
            "text/plain": [
              "[<matplotlib.lines.Line2D at 0x7f2846cc9208>]"
            ]
          },
          "metadata": {
            "tags": []
          },
          "execution_count": 6
        },
        {
          "output_type": "display_data",
          "data": {
            "image/png": "[encoded data removed]",
            "text/plain": [
              "<Figure size 432x288 with 1 Axes>"
            ]
          },
          "metadata": {
            "tags": [],
            "needs_background": "light"
          }
        }
      ]
    },
    {
      "cell_type": "code",
      "metadata": {
        "id": "BZ3zuLPT8EZr",
        "colab": {
          "base_uri": "https://localhost:8080/"
        },
        "outputId": "2240a6dc-e01e-4d19-cfd7-636d87370199"
      },
      "source": [
        "[w, b] = model.parameters()\n",
        "print(w, b)\n",
        "print(criterion(torch.Tensor(pred), ap))"
      ],
      "execution_count": 7,
      "outputs": [
        {
          "output_type": "stream",
          "text": [
            "Parameter containing:\n",
            "tensor([[9449.9980]], requires_grad=True) Parameter containing:\n",
            "tensor([25791.9609], requires_grad=True)\n",
            "tensor(0.0125)\n"
          ],
          "name": "stdout"
        }
      ]
    },
    {
      "cell_type": "markdown",
      "metadata": {
        "id": "w67DJ9HL0eYI"
      },
      "source": [
        "## Bayesian Regression\n",
        "\n",
        "p(w|y,X) proportional to p(y|w,X).p(w|X)\n",
        "\n",
        "Initial:\n",
        "\n",
        "p(w) = Normal(w;0, 1/a * I)\n",
        "\n",
        "p(y|w,X) = Normal(y;wx,var)\n",
        "\n",
        "cov = inv(inv(cov0) + inv(var) * X * X)\n",
        "mean = inv(cov) * (inv(cov0) * mean0 + inv(var) * X * y)"
      ]
    },
    {
      "cell_type": "code",
      "metadata": {
        "id": "DIHLBB_xuuEf"
      },
      "source": [
        "def x_mat(x, prior_mean):\n",
        "  mat = np.ones((len(x), len(prior_mean)))\n",
        "  for i in range(len(x)):\n",
        "    mat[i, 1] = x[i]\n",
        "  return mat"
      ],
      "execution_count": 8,
      "outputs": []
    },
    {
      "cell_type": "code",
      "metadata": {
        "id": "rs9Kuu9S1wrG"
      },
      "source": [
        "def prior_update(x, y, prior_cov, prior_mean, prior_distr, beta):\n",
        "  mat = x_mat(x, prior_mean)\n",
        "  post_cov = inv(inv(prior_cov) + beta * np.dot(mat.T, mat))\n",
        "  post_mean = np.dot(post_cov, np.dot(inv(prior_cov), prior_mean) + beta * np.dot(mat.T, y))\n",
        "  post_distr = MultivariateNormal(loc=torch.Tensor(post_mean), covariance_matrix=torch.Tensor(prior_cov))\n",
        "  prior_mean = post_mean\n",
        "  prior_cov = post_cov\n",
        "  prior_distr = post_distr\n",
        "  return prior_mean, prior_cov, prior_distr, post_distr"
      ],
      "execution_count": 9,
      "outputs": []
    },
    {
      "cell_type": "code",
      "metadata": {
        "id": "Bhekf-it3GvK"
      },
      "source": [
        "def predict(X, prior_cov, prior_mean):\n",
        "  mat = x_mat(X, prior_mean)\n",
        "  pred = []\n",
        "  for i in range(len(mat)):\n",
        "      x = mat[i, :]\n",
        "      pred_cov = 1 / beta + np.dot(x.T, np.dot(prior_cov, x))\n",
        "      pred_mean = np.dot(prior_mean, x)\n",
        "      pred.append(pred_mean)\n",
        "  return pred"
      ],
      "execution_count": 10,
      "outputs": []
    },
    {
      "cell_type": "code",
      "metadata": {
        "id": "Mc0TIXWX3nUE"
      },
      "source": [
        "alpha = 2\n",
        "beta = 25\n",
        "prior_mean = np.zeros(2)\n",
        "prior_cov = 1 / alpha * np.eye(2)\n",
        "prior_distr = MultivariateNormal(loc=torch.Tensor(prior_mean), covariance_matrix=torch.Tensor(prior_cov))\n",
        "global post_distr\n",
        "\n",
        "for i in range(len(x)):\n",
        "  prior_mean, prior_cov, prior_distr, post_distr = prior_update(x[i], y[i], prior_cov, prior_mean, prior_distr, beta)"
      ],
      "execution_count": 11,
      "outputs": []
    },
    {
      "cell_type": "code",
      "metadata": {
        "id": "GIvPiFQEuyk5",
        "colab": {
          "base_uri": "https://localhost:8080/",
          "height": 283
        },
        "outputId": "5dbf359e-812a-4143-8b6d-ad9b05d1b2d4"
      },
      "source": [
        "bp = predict(x, prior_cov, prior_mean)\n",
        "plt.scatter(x, y)\n",
        "plt.plot(x, pred, color=\"b\")\n",
        "plt.plot(x, bp, color=\"r\")\n",
        "plt.plot(x, ap, color=\"g\")"
      ],
      "execution_count": 12,
      "outputs": [
        {
          "output_type": "execute_result",
          "data": {
            "text/plain": [
              "[<matplotlib.lines.Line2D at 0x7f284642c9e8>]"
            ]
          },
          "metadata": {
            "tags": []
          },
          "execution_count": 12
        },
        {
          "output_type": "display_data",
          "data": {
            "image/png": "[encoded data removed]",
            "text/plain": [
              "<Figure size 432x288 with 1 Axes>"
            ]
          },
          "metadata": {
            "tags": [],
            "needs_background": "light"
          }
        }
      ]
    }
  ]
}